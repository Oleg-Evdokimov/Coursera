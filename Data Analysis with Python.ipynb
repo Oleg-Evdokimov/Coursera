import pandas as pd
url = "C:\\Users\\Avona\\Downloads\\imports-85.data.csv"
df = pd.read_csv(url, header = None)
df
