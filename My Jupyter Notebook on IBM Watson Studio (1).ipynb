{
 "cells": [
  {
   "cell_type": "markdown",
   "metadata": {},
   "source": [
    "<center>\n",
    "    <img src=\"https://s3-api.us-geo.objectstorage.softlayer.net/cf-courses-data/CognitiveClass/Logos/organization_logo/organization_logo.png\" width=\"300\" alt=\"cognitiveclass.ai logo\"  />\n",
    "</center>\n"
   ]
  },
  {
   "cell_type": "markdown",
   "metadata": {},
   "source": [
    "#### Add your code below following the instructions given in the course\n"
   ]
  },
  {
   "cell_type": "markdown",
   "metadata": {},
   "source": [
    "<h1>My Jupyter Notebook on IBM Watson Studio</h1>"
   ]
  },
  {
   "cell_type": "markdown",
   "metadata": {},
   "source": [
    "**Oleg Evdokimov**\n",
    "\n",
    "Risk Management Director"
   ]
  },
  {
   "cell_type": "markdown",
   "metadata": {},
   "source": [
    "*I am interested in data science because I want to learn how to automate my work daily reports, predict fraudulent transactions, quickly process large amounts of incoming data and be efficient in my work activities.*"
   ]
  },
  {
   "cell_type": "markdown",
   "metadata": {},
   "source": [
    "<h3>Function to multiply two numbers (Multiplication of two numbers)</h3>"
   ]
  },
  {
   "cell_type": "code",
   "execution_count": 3,
   "metadata": {},
   "outputs": [
    {
     "name": "stdout",
     "output_type": "stream",
     "text": [
      "65\n",
      "336\n",
      "7050334866865024\n"
     ]
    }
   ],
   "source": [
    "def mult(a,b):\n",
    "    print(a * b)\n",
    "\n",
    "mult(5,13)\n",
    "mult(2,168)\n",
    "mult(73565768,95837168)"
   ]
  },
  {
   "cell_type": "markdown",
   "metadata": {},
   "source": [
    "***    \n",
    "<!-- [Text](link) -->\n",
    "[Health and Wealth](http://skazka.do.am/ \"Optional Title\")  (*hyperlink*)\n",
    "\n",
    "***  \n",
    "<center>(image)</center>\n",
    "\n",
    "<!-- ![Alt Text](image path \"title\") -->\n",
    "![fairy](https://i.pinimg.com/236x/ce/f6/de/cef6ded6aff1f0d82f622577c456aa5b--fairy-wallpaper-beautiful-fairies.jpg \"Optional Title\")\n",
    "\n",
    "***  \n",
    "(*horizontal rule*)\n",
    "***\n",
    "\n",
    "1. Make a to-do list for today (*numbered list*)\n",
    "2. Make a shopping list for today\n",
    "\n",
    "   * Products (*bulleted list*)\n",
    "      * Milk\n",
    "      * Bread\n",
    "      * Vegetables\n",
    "        1. Сucumbers (*numbered list*)\n",
    "        2. Tomatoes\n",
    "        3. Onion\n",
    "    \n",
    "   * Belongings\n",
    "       - underpants (*bulleted list*)\n",
    "       - bra \n",
    "3. Make a list of exercises for today\n",
    "\n",
    "***\n",
    "> I will be a data scientist.\n",
    ">  (*blocked quotes*)\n",
    "\n",
    "***\n",
    "\n",
    "<center>(tables)</center>\n",
    "\n",
    "| Id | Name    | Age |\n",
    "|--- |----------| ------|\n",
    "| 01 | Anna |23 |\n",
    "| 02 | Ivan |  48 |\n",
    "| 03 | Sofia  | 56 |\n",
    "| 04 | Maria  | 92 |"
   ]
  },
  {
   "cell_type": "code",
   "execution_count": null,
   "metadata": {},
   "outputs": [],
   "source": []
  }
 ],
 "metadata": {
  "kernelspec": {
   "display_name": "Python 3 (ipykernel)",
   "language": "python",
   "name": "python3"
  },
  "language_info": {
   "codemirror_mode": {
    "name": "ipython",
    "version": 3
   },
   "file_extension": ".py",
   "mimetype": "text/x-python",
   "name": "python",
   "nbconvert_exporter": "python",
   "pygments_lexer": "ipython3",
   "version": "3.9.12"
  }
 },
 "nbformat": 4,
 "nbformat_minor": 4
}
